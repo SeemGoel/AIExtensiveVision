{
  "cells": [
    {
      "cell_type": "markdown",
      "metadata": {
        "id": "H5fN5NAn60wv"
      },
      "source": [
        "### Assignment Ask\n",
        "Refer to code from previos session WRITE IT AGAIN SUCH THAT IT ACHIEVES\n",
        "- 99.4% validation accuracy\n",
        "- Less than 20k Parameters\n",
        "- Less than 20 Epochs\n",
        "- Have used BN, Dropout,\n",
        "(Optional): a Fully connected layer, have used GAP.\n",
        "\n",
        "\n",
        "\n",
        "###  Key Results:\n",
        "**Total Params: 19,458**\n",
        "\n",
        "**Accuracy: 99.41%** (test set)\n",
        "\n",
        "Key updates:\n",
        "1. Reduced the batch size\n",
        "2. Used GAP global average pool\n",
        "3. Used dropout, best in this scenario is 0.08 and 0.10 much less than 25 percent\n",
        "4. Used Batch normalisation\n",
        "\n",
        "\n",
        "https://colab.research.google.com/drive/1j4193Iunq2quD6Iuma7g45QzFbLLNNBf#scrollTo=7Uk2RfZjfBOY"
      ]
    },
    {
      "cell_type": "code",
      "execution_count": 1,
      "metadata": {
        "id": "0m2JWFliFfKT"
      },
      "outputs": [],
      "source": [
        "from __future__ import print_function\n",
        "import torch\n",
        "import torch.nn as nn\n",
        "import torch.nn.functional as F\n",
        "import torch.optim as optim\n",
        "from torchvision import datasets, transforms\n",
        "import matplotlib.pyplot as plt"
      ]
    },
    {
      "cell_type": "code",
      "execution_count": 2,
      "metadata": {
        "id": "AWV_Ye3L_hK9"
      },
      "outputs": [],
      "source": [
        "#!pip install torchsummary\n",
        "from torchsummary import summary\n",
        "use_cuda = torch.cuda.is_available()\n",
        "device = torch.device(\"cuda\" if use_cuda else \"cpu\")"
      ]
    },
    {
      "cell_type": "code",
      "execution_count": 13,
      "metadata": {
        "colab": {
          "base_uri": "https://localhost:8080/",
          "height": 463
        },
        "id": "DqTWLaM5GHgH",
        "outputId": "9ad12350-85f7-4a81-c19a-7576cf94af30"
      },
      "outputs": [
        {
          "data": {
            "image/png": "[encoded data removed]",
            "text/plain": [
              "<Figure size 640x480 with 12 Axes>"
            ]
          },
          "metadata": {},
          "output_type": "display_data"
        }
      ],
      "source": [
        "# torch.manual_seed(1)\n",
        "batch_size = 32 # smaller the batch size better accuracy\n",
        "\n",
        "kwargs = {'num_workers': 1, 'pin_memory': True} if use_cuda else {}\n",
        "train_loader = torch.utils.data.DataLoader(\n",
        "    datasets.MNIST('../data', train=True, download=True,\n",
        "                    transform=transforms.Compose([\n",
        "                        transforms.ToTensor(),\n",
        "                        transforms.Normalize((0.1307,), (0.3081,))\n",
        "                    ])),\n",
        "    batch_size=batch_size, shuffle=True, **kwargs)\n",
        "test_loader = torch.utils.data.DataLoader(\n",
        "    datasets.MNIST('../data', train=False, transform=transforms.Compose([\n",
        "                        transforms.ToTensor(),\n",
        "                        transforms.Normalize((0.1307,), (0.3081,))\n",
        "                    ])),\n",
        "    batch_size=batch_size, shuffle=True, **kwargs)\n",
        "\n",
        "\n",
        "batch_data, batch_label = next(iter(train_loader))\n",
        "\n",
        "fig = plt.figure()\n",
        "\n",
        "for i in range(12):\n",
        "  plt.subplot(3,4,i+1)\n",
        "  plt.tight_layout()\n",
        "  plt.imshow(batch_data[i].squeeze(0), cmap='gray')\n",
        "  plt.title(batch_label[i].item())\n",
        "  plt.xticks([])\n",
        "  plt.yticks([])\n",
        "\n"
      ]
    },
    {
      "cell_type": "code",
      "execution_count": 4,
      "metadata": {
        "id": "oIifIH9vTy_J"
      },
      "outputs": [],
      "source": [
        "class Net(nn.Module):\n",
        "    def __init__(self):\n",
        "        super(Net, self).__init__()\n",
        "\n",
        "\n",
        "\n",
        "        self.conv1 = nn.Sequential(\n",
        "            # s= 1, p =1, k = 3\n",
        "            #nin = 28x28x1   #  nout = ((nin+2*p-k)/s)+1 = 28\n",
        "            #jin = 1,  #  j_out = j_in * s = 1 * 1 = 1\n",
        "            #rin = 1, rout = rin+(k-1)Jin =1+(3-1)*1 = 3\n",
        "            nn.Conv2d(1, 16, 3, padding=1,bias= False),\n",
        "            nn.ReLU(),\n",
        "            nn.BatchNorm2d(16),\n",
        "\n",
        "            #s= 1, k = 3, p = 1\n",
        "            #nin = 28x28x16  #  nout = ((nin+2*p-k)/s)+1 = 28 -1/1 + 1 = 28\n",
        "            #jin = 1,  #  j_out = j_in * s = 1 * 1 = 1\n",
        "            #rin = 3, rout = rin+(k-1)Jin = 3 +(3-1)* 1 = 5\n",
        "            nn.Conv2d(16, 20, 3, padding=1, bias= False),\n",
        "            nn.ReLU(),\n",
        "            nn.BatchNorm2d(20),\n",
        "\n",
        "\n",
        "            #s= 2, k = 2, p = 0\n",
        "            #nin = 28x28x20   #  nout = ((nin+2*p-k)/s)+1 = 28 -2/ 2 + 1 = 14\n",
        "            #jin = 1,  #  j_out = j_in * s = 1 * 2 = 2\n",
        "            #rin = 5, rout = rin+(k-1)Jin = 5 +(2-1)* 1 = 6\n",
        "            nn.MaxPool2d(2, 2),\n",
        "\n",
        "            #s= 1, k = 3, p = 1\n",
        "            #nin = 14x14x20   #  nout = ((nin+2*p-k)/s)+1 = 14 -1/1 +1 = 14\n",
        "            #jin = 2,  #  j_out = j_in * s = 2 * 1 = 2\n",
        "            #rin = 6, rout = rin+(k-1)Jin = 6 +(3-1)* 2 = 10\n",
        "            nn.Conv2d(20, 20, 3, padding=1,bias= False),\n",
        "            nn.ReLU(),\n",
        "            nn.BatchNorm2d(20),\n",
        "            nn.Dropout(0.09)\n",
        "        )\n",
        "        self.conv2 = nn.Sequential(\n",
        "\n",
        "            #s= 2, k = 3, p = 1\n",
        "            #nin = 14x14x20   #  nout = ((nin+2*p-k)/s)+1 = (14-1)/2 +1 = 7\n",
        "            #jin = 2,  #  j_out = j_in * s = 2 * 2 = 4\n",
        "            #rin = 10, rout = rin+(k-1)Jin = 10 +(3-1)*2 = 14\n",
        "            nn.Conv2d(20, 24, 3, padding=1, stride=2, bias= False),\n",
        "            nn.ReLU(),\n",
        "            nn.BatchNorm2d(24),\n",
        "\n",
        "            #nin = 8x8x24   #  nout = ((nin+2*p-k)/s)+1 = 8\n",
        "\n",
        "            #s= 1, k = 3, p = 1\n",
        "            #nin = 7x7X24   #  nout = ((nin+2*p-k)/s)+1 = (7-1)/2 +1 = 4\n",
        "            #jin = 4,  #  j_out = j_in * s = 4 * 1 = 4\n",
        "            #rin = 14, rout = rin+(k-1)Jin = 14 +(3-1)*4 = 22\n",
        "            nn.Conv2d(24, 28, 3,padding=1, bias= False),\n",
        "            nn.ReLU(),\n",
        "            nn.BatchNorm2d(28),\n",
        "\n",
        "            #s= 2, k = 2, p = 0\n",
        "            #nin = 4x4X28   #  nout = ((nin+2*p-k)/s)+1 = (4-2)/2 +1 = 2\n",
        "            #jin = 4,  #  j_out = j_in * s = 4 * 2 = 8\n",
        "            #rin = 22, rout = rin+(k-1)Jin = 22 +(2-1)*4 = 26\n",
        "            nn.MaxPool2d(2, 2),\n",
        "            nn.Dropout(0.08)\n",
        "        )\n",
        "\n",
        "        self.conv3 = nn.Sequential(\n",
        "\n",
        "            #s= 1, k = 1, p = 1\n",
        "            #nin = 2x2X28   #  nout = ((nin+2*p-k)/s)+1 = (2+1)/1 +1 = 4\n",
        "            #jin = 8,  #  j_out = j_in * s = 8 * 1 = 8\n",
        "            #rin = 26, rout = rin+(k-1)Jin = 26 +(0)*8 = 26\n",
        "            nn.Conv2d(28, 32, 1, padding=1,bias= False ),\n",
        "            nn.ReLU(),\n",
        "            nn.BatchNorm2d(32),\n",
        "\n",
        "            #s= 2, k = 2, p = 0\n",
        "            #nin = 4x4X32   #  nout = ((nin+2*p-k)/s)+1 = (4-2)/2 +1 = 2\n",
        "            #jin = 8,  #  j_out = j_in * s = 8 * 2 = 10\n",
        "            #rin = 26, rout = rin+(k-1)Jin = 26 +(1)*8 = 34\n",
        "            nn.AvgPool2d(2,2),\n",
        "            nn.Dropout(0.08)\n",
        "        )\n",
        "\n",
        "        self.fc = nn.Sequential(\n",
        "            #params = nin * nin * channels = 2*2 32\n",
        "            nn.Linear(128, 10)\n",
        "        )\n",
        "\n",
        "\n",
        "    def forward(self, x):\n",
        "        x = self.conv1(x)\n",
        "        x = self.conv2(x)\n",
        "        x = self.conv3(x)\n",
        "\n",
        "        x = x.view(x.size(0), -1)\n",
        "        x = self.fc(x)\n",
        "        x = F.log_softmax(x, dim=1)\n",
        "        return x"
      ]
    },
    {
      "cell_type": "code",
      "execution_count": 5,
      "metadata": {
        "colab": {
          "base_uri": "https://localhost:8080/"
        },
        "id": "xdydjYTZFyi3",
        "outputId": "23538d32-3391-41a9-fb34-ad2de0bb058d"
      },
      "outputs": [
        {
          "name": "stdout",
          "output_type": "stream",
          "text": [
            "----------------------------------------------------------------\n",
            "        Layer (type)               Output Shape         Param #\n",
            "================================================================\n",
            "            Conv2d-1           [-1, 16, 28, 28]             144\n",
            "              ReLU-2           [-1, 16, 28, 28]               0\n",
            "       BatchNorm2d-3           [-1, 16, 28, 28]              32\n",
            "            Conv2d-4           [-1, 20, 28, 28]           2,880\n",
            "              ReLU-5           [-1, 20, 28, 28]               0\n",
            "       BatchNorm2d-6           [-1, 20, 28, 28]              40\n",
            "         MaxPool2d-7           [-1, 20, 14, 14]               0\n",
            "            Conv2d-8           [-1, 20, 14, 14]           3,600\n",
            "              ReLU-9           [-1, 20, 14, 14]               0\n",
            "      BatchNorm2d-10           [-1, 20, 14, 14]              40\n",
            "          Dropout-11           [-1, 20, 14, 14]               0\n",
            "           Conv2d-12             [-1, 24, 7, 7]           4,320\n",
            "             ReLU-13             [-1, 24, 7, 7]               0\n",
            "      BatchNorm2d-14             [-1, 24, 7, 7]              48\n",
            "           Conv2d-15             [-1, 28, 7, 7]           6,048\n",
            "             ReLU-16             [-1, 28, 7, 7]               0\n",
            "      BatchNorm2d-17             [-1, 28, 7, 7]              56\n",
            "        MaxPool2d-18             [-1, 28, 3, 3]               0\n",
            "          Dropout-19             [-1, 28, 3, 3]               0\n",
            "           Conv2d-20             [-1, 32, 5, 5]             896\n",
            "             ReLU-21             [-1, 32, 5, 5]               0\n",
            "      BatchNorm2d-22             [-1, 32, 5, 5]              64\n",
            "        AvgPool2d-23             [-1, 32, 2, 2]               0\n",
            "          Dropout-24             [-1, 32, 2, 2]               0\n",
            "           Linear-25                   [-1, 10]           1,290\n",
            "================================================================\n",
            "Total params: 19,458\n",
            "Trainable params: 19,458\n",
            "Non-trainable params: 0\n",
            "----------------------------------------------------------------\n",
            "Input size (MB): 0.00\n",
            "Forward/backward pass size (MB): 0.88\n",
            "Params size (MB): 0.07\n",
            "Estimated Total Size (MB): 0.96\n",
            "----------------------------------------------------------------\n"
          ]
        }
      ],
      "source": [
        "model = Net().to(device)\n",
        "summary(model, input_size=(1, 28, 28))"
      ]
    },
    {
      "cell_type": "code",
      "execution_count": 6,
      "metadata": {
        "id": "8fDefDhaFlwH"
      },
      "outputs": [],
      "source": [
        "from tqdm import tqdm\n",
        "def train(model, device, train_loader, optimizer, epoch):\n",
        "    model.train()\n",
        "    pbar = tqdm(train_loader)\n",
        "    for batch_idx, (data, target) in enumerate(pbar):\n",
        "        data, target = data.to(device), target.to(device)\n",
        "        optimizer.zero_grad()\n",
        "        output = model(data)\n",
        "        loss = F.nll_loss(output, target)\n",
        "        loss.backward()\n",
        "        optimizer.step()\n",
        "        pbar.set_description(desc= f'loss={loss.item()} batch_id={batch_idx}')\n",
        "\n",
        "\n",
        "\n",
        "def test(model, device, test_loader):\n",
        "    model.eval()\n",
        "    test_loss = 0\n",
        "    correct = 0\n",
        "    with torch.no_grad():\n",
        "        for data, target in test_loader:\n",
        "            data, target = data.to(device), target.to(device)\n",
        "            output = model(data)\n",
        "            test_loss += F.nll_loss(output, target, reduction='sum').item()  # sum up batch loss\n",
        "            pred = output.argmax(dim=1, keepdim=True)  # get the index of the max log-probability\n",
        "            correct += pred.eq(target.view_as(pred)).sum().item()\n",
        "\n",
        "    test_loss /= len(test_loader.dataset)\n",
        "\n",
        "    print('\\nTest set: Average loss: {:.4f}, Accuracy: {}/{} ({:.4f}%)\\n'.format(\n",
        "        test_loss, correct, len(test_loader.dataset),\n",
        "        100. * correct / len(test_loader.dataset)))"
      ]
    },
    {
      "cell_type": "markdown",
      "metadata": {
        "id": "iu4CZeQJy6_u"
      },
      "source": [
        "\n",
        "\n",
        "\n"
      ]
    },
    {
      "cell_type": "code",
      "execution_count": 17,
      "metadata": {
        "colab": {
          "base_uri": "https://localhost:8080/"
        },
        "id": "jDsApEzl2-RW",
        "outputId": "6a7d4dd1-260e-45d5-89f3-afa34152410a"
      },
      "outputs": [
        {
          "name": "stdout",
          "output_type": "stream",
          "text": [
            "Epoc 1\n"
          ]
        },
        {
          "name": "stderr",
          "output_type": "stream",
          "text": [
            "loss=0.0626017302274704 batch_id=1874: 100%|██████████| 1875/1875 [00:34<00:00, 54.34it/s]\n"
          ]
        },
        {
          "name": "stdout",
          "output_type": "stream",
          "text": [
            "\n",
            "Test set: Average loss: 0.0436, Accuracy: 9861/10000 (98.6100%)\n",
            "\n",
            "Epoc 2\n"
          ]
        },
        {
          "name": "stderr",
          "output_type": "stream",
          "text": [
            "loss=0.02758871577680111 batch_id=1874: 100%|██████████| 1875/1875 [00:34<00:00, 54.70it/s]\n"
          ]
        },
        {
          "name": "stdout",
          "output_type": "stream",
          "text": [
            "\n",
            "Test set: Average loss: 0.0301, Accuracy: 9896/10000 (98.9600%)\n",
            "\n",
            "Epoc 3\n"
          ]
        },
        {
          "name": "stderr",
          "output_type": "stream",
          "text": [
            "loss=0.01664341427385807 batch_id=1874: 100%|██████████| 1875/1875 [00:34<00:00, 54.22it/s]\n"
          ]
        },
        {
          "name": "stdout",
          "output_type": "stream",
          "text": [
            "\n",
            "Test set: Average loss: 0.0296, Accuracy: 9899/10000 (98.9900%)\n",
            "\n",
            "Epoc 4\n"
          ]
        },
        {
          "name": "stderr",
          "output_type": "stream",
          "text": [
            "loss=0.0021542678587138653 batch_id=1874: 100%|██████████| 1875/1875 [00:36<00:00, 51.39it/s]\n"
          ]
        },
        {
          "name": "stdout",
          "output_type": "stream",
          "text": [
            "\n",
            "Test set: Average loss: 0.0254, Accuracy: 9914/10000 (99.1400%)\n",
            "\n",
            "Epoc 5\n"
          ]
        },
        {
          "name": "stderr",
          "output_type": "stream",
          "text": [
            "loss=0.08347930759191513 batch_id=1874: 100%|██████████| 1875/1875 [00:35<00:00, 52.69it/s]\n"
          ]
        },
        {
          "name": "stdout",
          "output_type": "stream",
          "text": [
            "\n",
            "Test set: Average loss: 0.0221, Accuracy: 9924/10000 (99.2400%)\n",
            "\n",
            "Epoc 6\n"
          ]
        },
        {
          "name": "stderr",
          "output_type": "stream",
          "text": [
            "loss=0.02236880734562874 batch_id=1874: 100%|██████████| 1875/1875 [00:35<00:00, 53.42it/s]\n"
          ]
        },
        {
          "name": "stdout",
          "output_type": "stream",
          "text": [
            "\n",
            "Test set: Average loss: 0.0230, Accuracy: 9915/10000 (99.1500%)\n",
            "\n",
            "Epoc 7\n"
          ]
        },
        {
          "name": "stderr",
          "output_type": "stream",
          "text": [
            "loss=0.050502412021160126 batch_id=1874: 100%|██████████| 1875/1875 [00:34<00:00, 53.88it/s]\n"
          ]
        },
        {
          "name": "stdout",
          "output_type": "stream",
          "text": [
            "\n",
            "Test set: Average loss: 0.0209, Accuracy: 9934/10000 (99.3400%)\n",
            "\n",
            "Epoc 8\n"
          ]
        },
        {
          "name": "stderr",
          "output_type": "stream",
          "text": [
            "loss=0.012287985533475876 batch_id=1874: 100%|██████████| 1875/1875 [00:34<00:00, 54.36it/s]\n"
          ]
        },
        {
          "name": "stdout",
          "output_type": "stream",
          "text": [
            "\n",
            "Test set: Average loss: 0.0199, Accuracy: 9929/10000 (99.2900%)\n",
            "\n",
            "Epoc 9\n"
          ]
        },
        {
          "name": "stderr",
          "output_type": "stream",
          "text": [
            "loss=0.02428797259926796 batch_id=1874: 100%|██████████| 1875/1875 [00:34<00:00, 54.17it/s]\n"
          ]
        },
        {
          "name": "stdout",
          "output_type": "stream",
          "text": [
            "\n",
            "Test set: Average loss: 0.0199, Accuracy: 9932/10000 (99.3200%)\n",
            "\n",
            "Epoc 10\n"
          ]
        },
        {
          "name": "stderr",
          "output_type": "stream",
          "text": [
            "loss=0.013243856839835644 batch_id=1874: 100%|██████████| 1875/1875 [00:33<00:00, 55.64it/s]\n"
          ]
        },
        {
          "name": "stdout",
          "output_type": "stream",
          "text": [
            "\n",
            "Test set: Average loss: 0.0201, Accuracy: 9927/10000 (99.2700%)\n",
            "\n",
            "Epoc 11\n"
          ]
        },
        {
          "name": "stderr",
          "output_type": "stream",
          "text": [
            "loss=0.006148474290966988 batch_id=1874: 100%|██████████| 1875/1875 [00:33<00:00, 55.36it/s]\n"
          ]
        },
        {
          "name": "stdout",
          "output_type": "stream",
          "text": [
            "\n",
            "Test set: Average loss: 0.0223, Accuracy: 9927/10000 (99.2700%)\n",
            "\n",
            "Epoc 12\n"
          ]
        },
        {
          "name": "stderr",
          "output_type": "stream",
          "text": [
            "loss=0.015400918200612068 batch_id=1874: 100%|██████████| 1875/1875 [00:33<00:00, 55.42it/s]\n"
          ]
        },
        {
          "name": "stdout",
          "output_type": "stream",
          "text": [
            "\n",
            "Test set: Average loss: 0.0170, Accuracy: 9942/10000 (99.4200%)\n",
            "\n",
            "Epoc 13\n"
          ]
        },
        {
          "name": "stderr",
          "output_type": "stream",
          "text": [
            "loss=0.000800441310275346 batch_id=1874: 100%|██████████| 1875/1875 [00:33<00:00, 55.83it/s]\n"
          ]
        },
        {
          "name": "stdout",
          "output_type": "stream",
          "text": [
            "\n",
            "Test set: Average loss: 0.0196, Accuracy: 9929/10000 (99.2900%)\n",
            "\n",
            "Epoc 14\n"
          ]
        },
        {
          "name": "stderr",
          "output_type": "stream",
          "text": [
            "loss=0.027138588950037956 batch_id=1874: 100%|██████████| 1875/1875 [00:34<00:00, 54.49it/s]\n"
          ]
        },
        {
          "name": "stdout",
          "output_type": "stream",
          "text": [
            "\n",
            "Test set: Average loss: 0.0199, Accuracy: 9932/10000 (99.3200%)\n",
            "\n",
            "Epoc 15\n"
          ]
        },
        {
          "name": "stderr",
          "output_type": "stream",
          "text": [
            "loss=0.0014842605451121926 batch_id=1874: 100%|██████████| 1875/1875 [00:35<00:00, 53.42it/s]\n"
          ]
        },
        {
          "name": "stdout",
          "output_type": "stream",
          "text": [
            "\n",
            "Test set: Average loss: 0.0190, Accuracy: 9932/10000 (99.3200%)\n",
            "\n",
            "Epoc 16\n"
          ]
        },
        {
          "name": "stderr",
          "output_type": "stream",
          "text": [
            "loss=0.0017839813372120261 batch_id=1874: 100%|██████████| 1875/1875 [00:34<00:00, 53.79it/s]\n"
          ]
        },
        {
          "name": "stdout",
          "output_type": "stream",
          "text": [
            "\n",
            "Test set: Average loss: 0.0211, Accuracy: 9933/10000 (99.3300%)\n",
            "\n",
            "Epoc 17\n"
          ]
        },
        {
          "name": "stderr",
          "output_type": "stream",
          "text": [
            "loss=0.009954585693776608 batch_id=1874: 100%|██████████| 1875/1875 [00:35<00:00, 53.07it/s]\n"
          ]
        },
        {
          "name": "stdout",
          "output_type": "stream",
          "text": [
            "\n",
            "Test set: Average loss: 0.0201, Accuracy: 9927/10000 (99.2700%)\n",
            "\n",
            "Epoc 18\n"
          ]
        },
        {
          "name": "stderr",
          "output_type": "stream",
          "text": [
            "loss=0.0018108835211023688 batch_id=1874: 100%|██████████| 1875/1875 [00:35<00:00, 52.13it/s]\n"
          ]
        },
        {
          "name": "stdout",
          "output_type": "stream",
          "text": [
            "\n",
            "Test set: Average loss: 0.0229, Accuracy: 9927/10000 (99.2700%)\n",
            "\n",
            "Epoc 19\n"
          ]
        },
        {
          "name": "stderr",
          "output_type": "stream",
          "text": [
            "loss=0.0005376689950935543 batch_id=1874: 100%|██████████| 1875/1875 [00:35<00:00, 52.13it/s]\n"
          ]
        },
        {
          "name": "stdout",
          "output_type": "stream",
          "text": [
            "\n",
            "Test set: Average loss: 0.0179, Accuracy: 9941/10000 (99.4100%)\n",
            "\n"
          ]
        }
      ],
      "source": [
        "batch_size = 32\n",
        "model = Net().to(device)\n",
        "optimizer = optim.SGD(model.parameters(), lr=0.01, momentum=0.9)\n",
        "\n",
        "for epoch in range(1, 20):\n",
        "    print(f\"Epoc {epoch}\")\n",
        "    train(model, device, train_loader, optimizer, epoch)\n",
        "    test(model, device, test_loader)"
      ]
    },
    {
      "cell_type": "code",
      "execution_count": null,
      "metadata": {
        "id": "IaIuV_iBTEv8"
      },
      "outputs": [],
      "source": []
    }
  ],
  "metadata": {
    "accelerator": "GPU",
    "colab": {
      "gpuType": "T4",
      "provenance": []
    },
    "kernelspec": {
      "display_name": "Python 3",
      "name": "python3"
    }
  },
  "nbformat": 4,
  "nbformat_minor": 0
}
